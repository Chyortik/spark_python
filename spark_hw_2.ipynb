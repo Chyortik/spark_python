{
  "nbformat": 4,
  "nbformat_minor": 0,
  "metadata": {
    "colab": {
      "provenance": []
    },
    "kernelspec": {
      "name": "python3",
      "display_name": "Python 3"
    },
    "language_info": {
      "name": "python"
    }
  },
  "cells": [
    {
      "cell_type": "markdown",
      "source": [
        "Домашнее задание. Условие: дана таблица с колонками (id, name, salary, manager_id). Студентам необходимо написать код на spark, который создаст эту таблицу (данные указаны ниже) и в результате выдаст таблицу, в которой будут имена сотрудников, которые зарабатывают больше своих менеджеров"
      ],
      "metadata": {
        "id": "QBf4xDooUWoF"
      }
    },
    {
      "cell_type": "code",
      "source": [
        "!pip install pyspark >> None"
      ],
      "metadata": {
        "id": "Hi3ZWtkdcJ24"
      },
      "execution_count": 1,
      "outputs": []
    },
    {
      "cell_type": "code",
      "execution_count": 2,
      "metadata": {
        "id": "xgdXw2j2XsM5"
      },
      "outputs": [],
      "source": [
        "from pyspark.sql import SparkSession\n",
        "from pyspark.sql.functions import col\n",
        "import pandas as pd\n",
        "import numpy as np"
      ]
    },
    {
      "cell_type": "markdown",
      "source": [
        "Способ решения #1 (с помощью sql-запроса)"
      ],
      "metadata": {
        "id": "6qbbSURXQPAJ"
      }
    },
    {
      "cell_type": "code",
      "source": [
        "# Создаем Spark сессию\n",
        "spark = SparkSession.builder.appName(\"CompareSalary1\").getOrCreate()"
      ],
      "metadata": {
        "id": "78l1CWpiTKQ9"
      },
      "execution_count": 5,
      "outputs": []
    },
    {
      "cell_type": "code",
      "source": [
        "# Получаем исходные данные\n",
        "data = {'id': [1, 2, 3, 4], 'Name': ['Joe', 'Henry', 'Sam', 'Max'],'Salary': ['70', '80', '60', '90'], 'Manager_id': ['3', '4', 'Null', 'Null']}"
      ],
      "metadata": {
        "id": "WYA1398CTKOd"
      },
      "execution_count": 6,
      "outputs": []
    },
    {
      "cell_type": "code",
      "source": [
        "# Создаем DataFrame из данных\n",
        "df = spark.createDataFrame([(data['id'][i], data['Name'][i], int(data['Salary'][i]),\n",
        "                             data['Manager_id'][i]) for i in range(len(data['id']))],\n",
        "                              ['id', 'Name', 'Salary', 'Manager_id'])"
      ],
      "metadata": {
        "id": "JekFw2tmTKLw"
      },
      "execution_count": 7,
      "outputs": []
    },
    {
      "cell_type": "code",
      "source": [
        "# Преобразуем столбец Salary в числовой формат\n",
        "df = df.withColumn('Salary', col('Salary').cast('int'))"
      ],
      "metadata": {
        "id": "B4pOERkXTKJO"
      },
      "execution_count": 8,
      "outputs": []
    },
    {
      "cell_type": "code",
      "source": [
        "# Создадим временную таблицу.\n",
        "# Срок службы этой временной таблицы привязан к текущему сеансу Spark.\n",
        "df.createOrReplaceTempView(\"employees\")"
      ],
      "metadata": {
        "id": "iGGz-pgMTKGm"
      },
      "execution_count": 9,
      "outputs": []
    },
    {
      "cell_type": "code",
      "source": [
        "# Выполним вложенный в spark запрос sql для вывода строк, где зарплата сотрудника больше зарплаты менеджера\n",
        "result = spark.sql(\"SELECT e.Name FROM employees e JOIN employees m ON e.Manager_id = m.id WHERE e.Salary > m.Salary\")"
      ],
      "metadata": {
        "id": "r9Rno9A1TKD6"
      },
      "execution_count": 10,
      "outputs": []
    },
    {
      "cell_type": "code",
      "source": [
        "# Выводим результат\n",
        "result.show()"
      ],
      "metadata": {
        "colab": {
          "base_uri": "https://localhost:8080/"
        },
        "id": "b45Z7wVjTJ7O",
        "outputId": "c427b863-33a2-4577-8431-ba2b6d21d8ea"
      },
      "execution_count": 11,
      "outputs": [
        {
          "output_type": "stream",
          "name": "stdout",
          "text": [
            "+----+\n",
            "|Name|\n",
            "+----+\n",
            "| Joe|\n",
            "+----+\n",
            "\n"
          ]
        }
      ]
    },
    {
      "cell_type": "code",
      "source": [
        "# Останавливаем Spark сессию\n",
        "spark.stop()"
      ],
      "metadata": {
        "id": "zCqomMCTGfN3"
      },
      "execution_count": 12,
      "outputs": []
    },
    {
      "cell_type": "markdown",
      "source": [
        "Способ решения #2 (с помощью join)"
      ],
      "metadata": {
        "id": "ba7peCCMQcaQ"
      }
    },
    {
      "cell_type": "code",
      "source": [
        "# Создаем Spark сессию\n",
        "spark = SparkSession.builder.appName(\"CompareSalary2\").getOrCreate()"
      ],
      "metadata": {
        "id": "XEII4hTeTYo4"
      },
      "execution_count": 13,
      "outputs": []
    },
    {
      "cell_type": "code",
      "source": [
        "# Получаем исходные данные\n",
        "data = {'id': [1, 2, 3, 4],\n",
        "        'Name': ['Joe', 'Henry', 'Sam', 'Max'],\n",
        "        'Salary': ['70', '80', '60', '90'],\n",
        "        'Manager_id': ['3', '4', 'Null', 'Null']}"
      ],
      "metadata": {
        "id": "cohijkH6TYmJ"
      },
      "execution_count": 14,
      "outputs": []
    },
    {
      "cell_type": "code",
      "source": [
        "# В принципе, можно обойтись и без pandas\n",
        "import pandas as pd\n",
        "df = pd.DataFrame(data)"
      ],
      "metadata": {
        "id": "-ukc-EAMTYio"
      },
      "execution_count": 15,
      "outputs": []
    },
    {
      "cell_type": "code",
      "source": [
        "# Создаем DataFrame из данных\n",
        "df = spark.createDataFrame(list(zip(data['id'], data['Name'], data['Salary'], data['Manager_id'])), ['id', 'Name', 'Salary', 'Manager_id'])"
      ],
      "metadata": {
        "id": "UqU8pQymTYgJ"
      },
      "execution_count": 16,
      "outputs": []
    },
    {
      "cell_type": "code",
      "source": [
        "# Преобразуем столбцы Salary и Manager_id в числовой формат\n",
        "df = df.withColumn('Salary', col('Salary').cast('int'))\n",
        "df = df.withColumn('Manager_id', col('Manager_id').cast('int'))"
      ],
      "metadata": {
        "id": "0fs5w_NPTYd6"
      },
      "execution_count": 17,
      "outputs": []
    },
    {
      "cell_type": "code",
      "source": [
        "# Присоединяем DataFrame сам к себе по столбцу Manager_id и фильтруем строки, где зарплата сотрудника больше зарплаты менеджера\n",
        "result = df.alias('employee').join(df.alias('manager'), col('employee.Manager_id') == col('manager.id'), 'left')\\\n",
        "    .filter(col('employee.Salary') > col('manager.Salary'))\\\n",
        "    .select(col('employee.Name').alias('E_Name'))"
      ],
      "metadata": {
        "id": "xrB4OIJeTYZG"
      },
      "execution_count": 19,
      "outputs": []
    },
    {
      "cell_type": "code",
      "source": [
        "# Выводим результат\n",
        "result.show()"
      ],
      "metadata": {
        "colab": {
          "base_uri": "https://localhost:8080/"
        },
        "id": "pjNmgfjBTYWg",
        "outputId": "9606483c-cf5f-4ce7-ac15-7a452fa0ec91"
      },
      "execution_count": 21,
      "outputs": [
        {
          "output_type": "stream",
          "name": "stdout",
          "text": [
            "+------+\n",
            "|E_Name|\n",
            "+------+\n",
            "|   Joe|\n",
            "+------+\n",
            "\n"
          ]
        }
      ]
    },
    {
      "cell_type": "code",
      "source": [
        "# Останавливаем Spark сессию\n",
        "spark.stop()"
      ],
      "metadata": {
        "id": "I50752k8GfVN"
      },
      "execution_count": 22,
      "outputs": []
    }
  ]
}