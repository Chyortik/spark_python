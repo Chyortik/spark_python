{
  "nbformat": 4,
  "nbformat_minor": 0,
  "metadata": {
    "colab": {
      "provenance": []
    },
    "kernelspec": {
      "name": "python3",
      "display_name": "Python 3"
    },
    "language_info": {
      "name": "python"
    }
  },
  "cells": [
    {
      "cell_type": "markdown",
      "source": [
        "Домашнее задание 1: Условие: найти самую длинную последовательность упорядоченных чисел в RDD и вывести ее"
      ],
      "metadata": {
        "id": "-RPq2YMgSU3m"
      }
    },
    {
      "cell_type": "code",
      "source": [
        "!pip install pyspark"
      ],
      "metadata": {
        "colab": {
          "base_uri": "https://localhost:8080/"
        },
        "id": "-ufBK94NSV6P",
        "outputId": "d23fed5b-52c1-465d-a00a-bac25793cf97"
      },
      "execution_count": 1,
      "outputs": [
        {
          "output_type": "stream",
          "name": "stdout",
          "text": [
            "Collecting pyspark\n",
            "  Downloading pyspark-3.5.1.tar.gz (317.0 MB)\n",
            "\u001b[2K     \u001b[90m━━━━━━━━━━━━━━━━━━━━━━━━━━━━━━━━━━━━━━━━\u001b[0m \u001b[32m317.0/317.0 MB\u001b[0m \u001b[31m4.5 MB/s\u001b[0m eta \u001b[36m0:00:00\u001b[0m\n",
            "\u001b[?25h  Preparing metadata (setup.py) ... \u001b[?25l\u001b[?25hdone\n",
            "Requirement already satisfied: py4j==0.10.9.7 in /usr/local/lib/python3.10/dist-packages (from pyspark) (0.10.9.7)\n",
            "Building wheels for collected packages: pyspark\n",
            "  Building wheel for pyspark (setup.py) ... \u001b[?25l\u001b[?25hdone\n",
            "  Created wheel for pyspark: filename=pyspark-3.5.1-py2.py3-none-any.whl size=317488493 sha256=10b294328ad99e8c2b28015321b1e65dc7e5bb68007d5f870fbbc8ab37d73737\n",
            "  Stored in directory: /root/.cache/pip/wheels/80/1d/60/2c256ed38dddce2fdd93be545214a63e02fbd8d74fb0b7f3a6\n",
            "Successfully built pyspark\n",
            "Installing collected packages: pyspark\n",
            "Successfully installed pyspark-3.5.1\n"
          ]
        }
      ]
    },
    {
      "cell_type": "code",
      "source": [
        "import time\n",
        "# # import timeit\n",
        "# import pyspark\n",
        "from pyspark import SparkContext\n",
        "# from pyspark.sql import SparkSession"
      ],
      "metadata": {
        "id": "AJgYOGkvSV3k"
      },
      "execution_count": 2,
      "outputs": []
    },
    {
      "cell_type": "code",
      "source": [
        "%%time\n",
        "# активация сессии\n",
        "sc = SparkContext(\"local\", \"Longest sequence\")\n",
        "\n",
        "# Создаем RDD с числами\n",
        "data = [1, 2, 3, 4, 7, 8, 9, 11, 12, 13, 14, 15]\n",
        "rdd = sc.parallelize(data)"
      ],
      "metadata": {
        "colab": {
          "base_uri": "https://localhost:8080/"
        },
        "id": "I5W86bjISV01",
        "outputId": "900f26e4-8d32-4355-9f6a-160bff470168"
      },
      "execution_count": 3,
      "outputs": [
        {
          "output_type": "stream",
          "name": "stdout",
          "text": [
            "CPU times: user 72.9 ms, sys: 23.9 ms, total: 96.8 ms\n",
            "Wall time: 8.79 s\n"
          ]
        }
      ]
    },
    {
      "cell_type": "code",
      "source": [
        "%%time\n",
        "# нахождение последовательностей чисел в RDD\n",
        "def find_sequences(idx, iterator):\n",
        "    current_sequence = []\n",
        "    sequences = []\n",
        "\n",
        "    for num in iterator:\n",
        "        if not current_sequence or num == current_sequence[-1] + 1:\n",
        "            current_sequence.append(num)\n",
        "        else:\n",
        "            sequences.append(current_sequence)\n",
        "            current_sequence = [num]\n",
        "\n",
        "    sequences.append(current_sequence)\n",
        "\n",
        "    return sequences\n",
        "\n",
        "sequences = rdd.mapPartitionsWithIndex(find_sequences).collect()"
      ],
      "metadata": {
        "colab": {
          "base_uri": "https://localhost:8080/"
        },
        "id": "JdbU4FBUSVyN",
        "outputId": "a64379e4-78e7-467f-b540-6764b146efb5"
      },
      "execution_count": 4,
      "outputs": [
        {
          "output_type": "stream",
          "name": "stdout",
          "text": [
            "CPU times: user 42.7 ms, sys: 3.35 ms, total: 46 ms\n",
            "Wall time: 3.61 s\n"
          ]
        }
      ]
    },
    {
      "cell_type": "code",
      "source": [
        "%%time\n",
        "# Нахождение\n",
        "longest_sequence = max(sequences, key=len)\n",
        "print(f'Самая длинная последовательность чисел в RDD: {longest_sequence}')"
      ],
      "metadata": {
        "colab": {
          "base_uri": "https://localhost:8080/"
        },
        "id": "TG46AIg2SVvu",
        "outputId": "60aba968-607a-48ca-83c0-04939d7cd83d"
      },
      "execution_count": 5,
      "outputs": [
        {
          "output_type": "stream",
          "name": "stdout",
          "text": [
            "Самая длинная последовательность чисел в RDD: [11, 12, 13, 14, 15]\n",
            "CPU times: user 647 µs, sys: 740 µs, total: 1.39 ms\n",
            "Wall time: 1.41 ms\n"
          ]
        }
      ]
    },
    {
      "cell_type": "code",
      "source": [
        "# Остановка сессии\n",
        "sc.stop()"
      ],
      "metadata": {
        "id": "QNI3O9E5SjSl"
      },
      "execution_count": 6,
      "outputs": []
    }
  ]
}