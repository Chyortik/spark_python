{
  "nbformat": 4,
  "nbformat_minor": 0,
  "metadata": {
    "colab": {
      "provenance": []
    },
    "kernelspec": {
      "name": "python3",
      "display_name": "Python 3"
    },
    "language_info": {
      "name": "python"
    }
  },
  "cells": [
    {
      "cell_type": "code",
      "execution_count": 1,
      "metadata": {
        "id": "4IC4Wd5r3N7K"
      },
      "outputs": [],
      "source": [
        "# Создаем csv файл с данными\n",
        "import csv\n",
        "\n",
        "data = [\n",
        "    [\"title\", \"author\", \"genre\", \"sales\", \"year\"],\n",
        "    [\"1984\", \"George Orwell\", \"Science Fiction\", 5000, 1949],\n",
        "    [\"The Lord of the Rings\", \"J.R.R. Tolkien\", \"Fantasy\", 3000, 1954],\n",
        "    [\"To Kill a Mockingbird\", \"Harper Lee\", \"Southern Gothic\", 4000, 1960],\n",
        "    [\"The Catcher in the Rye\", \"J.D. Salinger\", \"Novel\", 2000, 1951],\n",
        "    [\"The Great Gatsby\", \"F. Scott Fitzgerald\", \"Novel\", 4500, 1925]\n",
        "]\n",
        "\n",
        "with open('books.csv', 'w', newline='') as file:\n",
        "    writer = csv.writer(file)\n",
        "    writer.writerows(data)"
      ]
    },
    {
      "cell_type": "code",
      "source": [
        "# Установим необходимую библиотеку\n",
        "!pip install pyspark --> None"
      ],
      "metadata": {
        "id": "_L9esmC6_pzG"
      },
      "execution_count": 2,
      "outputs": []
    },
    {
      "cell_type": "code",
      "source": [
        "# Создаем новую Spark сессию\n",
        "from pyspark.sql import SparkSession\n",
        "\n",
        "spark = SparkSession.builder.appName(\"Books Analysis\").getOrCreate()"
      ],
      "metadata": {
        "id": "9HzNIG3p3OwE"
      },
      "execution_count": 3,
      "outputs": []
    },
    {
      "cell_type": "code",
      "source": [
        "# Загрузим и прочтем данные из файла csv\n",
        "df = spark.read.csv(\"books.csv\", header=True)\n",
        "df.show()"
      ],
      "metadata": {
        "colab": {
          "base_uri": "https://localhost:8080/"
        },
        "id": "sOOlAU2y_miP",
        "outputId": "dc53ac2b-138f-4c03-8a03-5c88f17982f2"
      },
      "execution_count": 16,
      "outputs": [
        {
          "output_type": "stream",
          "name": "stdout",
          "text": [
            "+--------------------+-------------------+---------------+-----+----+\n",
            "|               title|             author|          genre|sales|year|\n",
            "+--------------------+-------------------+---------------+-----+----+\n",
            "|                1984|      George Orwell|Science Fiction| 5000|1949|\n",
            "|The Lord of the R...|     J.R.R. Tolkien|        Fantasy| 3000|1954|\n",
            "|To Kill a Mocking...|         Harper Lee|Southern Gothic| 4000|1960|\n",
            "|The Catcher in th...|      J.D. Salinger|          Novel| 2000|1951|\n",
            "|    The Great Gatsby|F. Scott Fitzgerald|          Novel| 4500|1925|\n",
            "+--------------------+-------------------+---------------+-----+----+\n",
            "\n"
          ]
        }
      ]
    },
    {
      "cell_type": "code",
      "source": [
        "# 2. Фильтруем данные, чтобы оставить только книги, продажи которых превышают 3000 экземпляров\n",
        "df_filtered = df.filter(df[\"sales\"] > 3000)\n",
        "df_filtered.show()"
      ],
      "metadata": {
        "colab": {
          "base_uri": "https://localhost:8080/"
        },
        "id": "KfNuKc-s3Oyl",
        "outputId": "a2e8483c-73c0-45b9-91d4-806bc962f15c"
      },
      "execution_count": 17,
      "outputs": [
        {
          "output_type": "stream",
          "name": "stdout",
          "text": [
            "+--------------------+-------------------+---------------+-----+----+\n",
            "|               title|             author|          genre|sales|year|\n",
            "+--------------------+-------------------+---------------+-----+----+\n",
            "|                1984|      George Orwell|Science Fiction| 5000|1949|\n",
            "|To Kill a Mocking...|         Harper Lee|Southern Gothic| 4000|1960|\n",
            "|    The Great Gatsby|F. Scott Fitzgerald|          Novel| 4500|1925|\n",
            "+--------------------+-------------------+---------------+-----+----+\n",
            "\n"
          ]
        }
      ]
    },
    {
      "cell_type": "code",
      "source": [
        "# Проверим типы данных в таблице, чтобы не появлялись ошибки при их чтении и работе с ними\n",
        "df.printSchema()"
      ],
      "metadata": {
        "colab": {
          "base_uri": "https://localhost:8080/"
        },
        "id": "awt_hPxxB6c5",
        "outputId": "2500f612-7f34-4b99-ea2d-71de6d6052c4"
      },
      "execution_count": 18,
      "outputs": [
        {
          "output_type": "stream",
          "name": "stdout",
          "text": [
            "root\n",
            " |-- title: string (nullable = true)\n",
            " |-- author: string (nullable = true)\n",
            " |-- genre: string (nullable = true)\n",
            " |-- sales: string (nullable = true)\n",
            " |-- year: string (nullable = true)\n",
            "\n"
          ]
        }
      ]
    },
    {
      "cell_type": "code",
      "source": [
        "# В столбце \"sales\" имеется строковый тип данных. Исправим на целочисленный и проверим\n",
        "from pyspark.sql.functions import col\n",
        "df = df.withColumn('sales', col('sales').cast('int'))\n",
        "df.printSchema()"
      ],
      "metadata": {
        "colab": {
          "base_uri": "https://localhost:8080/"
        },
        "id": "co5f9Be2DDVe",
        "outputId": "9a336c9a-9312-403e-b35b-82c4d3db81e2"
      },
      "execution_count": 19,
      "outputs": [
        {
          "output_type": "stream",
          "name": "stdout",
          "text": [
            "root\n",
            " |-- title: string (nullable = true)\n",
            " |-- author: string (nullable = true)\n",
            " |-- genre: string (nullable = true)\n",
            " |-- sales: integer (nullable = true)\n",
            " |-- year: string (nullable = true)\n",
            "\n"
          ]
        }
      ]
    },
    {
      "cell_type": "code",
      "source": [
        "# 3. Сгруппируем данные по жанру и вычислите общий объем продаж для каждого жанра\n",
        "df_grouped = df.groupBy(\"genre\").sum(\"sales\")\n",
        "df_grouped.show()"
      ],
      "metadata": {
        "colab": {
          "base_uri": "https://localhost:8080/"
        },
        "id": "lo1c7Yc13O04",
        "outputId": "4a208924-d09e-4ba8-8dcf-1c0d7a038ad1"
      },
      "execution_count": 20,
      "outputs": [
        {
          "output_type": "stream",
          "name": "stdout",
          "text": [
            "+---------------+----------+\n",
            "|          genre|sum(sales)|\n",
            "+---------------+----------+\n",
            "|Southern Gothic|      4000|\n",
            "|          Novel|      6500|\n",
            "|        Fantasy|      3000|\n",
            "|Science Fiction|      5000|\n",
            "+---------------+----------+\n",
            "\n"
          ]
        }
      ]
    },
    {
      "cell_type": "code",
      "source": [
        "# 4. Сортируем данные по общему объему продаж в порядке убывания\n",
        "df_sorted = df_grouped.orderBy(\"sum(sales)\", ascending=False)"
      ],
      "metadata": {
        "id": "2juNLGx33O3O"
      },
      "execution_count": 22,
      "outputs": []
    },
    {
      "cell_type": "code",
      "source": [
        "# 5. Выводим результаты на экран\n",
        "df_sorted.show()"
      ],
      "metadata": {
        "colab": {
          "base_uri": "https://localhost:8080/"
        },
        "id": "cznPJ4he3O5S",
        "outputId": "74c33e07-e33e-4cb6-c4e8-ea225e21a9e0"
      },
      "execution_count": 23,
      "outputs": [
        {
          "output_type": "stream",
          "name": "stdout",
          "text": [
            "+---------------+----------+\n",
            "|          genre|sum(sales)|\n",
            "+---------------+----------+\n",
            "|          Novel|      6500|\n",
            "|Science Fiction|      5000|\n",
            "|Southern Gothic|      4000|\n",
            "|        Fantasy|      3000|\n",
            "+---------------+----------+\n",
            "\n"
          ]
        }
      ]
    }
  ]
}